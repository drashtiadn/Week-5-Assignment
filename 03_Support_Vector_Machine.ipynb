{
 "cells": [
  {
   "cell_type": "markdown",
   "id": "fdfacb6e",
   "metadata": {},
   "source": [
    "# Support Vector Machine"
   ]
  },
  {
   "cell_type": "markdown",
   "id": "32d705cc",
   "metadata": {},
   "source": [
    "# 1: Importing Libraries and Loading Data"
   ]
  },
  {
   "cell_type": "code",
   "execution_count": 1,
   "id": "1aa75897",
   "metadata": {},
   "outputs": [],
   "source": [
    "# Importing the libraries\n",
    "import numpy as np \n",
    "import pandas as pd"
   ]
  },
  {
   "cell_type": "code",
   "execution_count": 2,
   "id": "a6c3920a",
   "metadata": {},
   "outputs": [
    {
     "name": "stdout",
     "output_type": "stream",
     "text": [
      "   age  sex  cp  trestbps   chol  fbs  restecg  thalach  exang  oldpeak  \\\n",
      "0   28    1   2     130.0  132.0  0.0      2.0    185.0    0.0      0.0   \n",
      "1   29    1   2     120.0  243.0  0.0      0.0    160.0    0.0      0.0   \n",
      "2   29    1   2     140.0    NaN  0.0      0.0    170.0    0.0      0.0   \n",
      "3   30    0   1     170.0  237.0  0.0      1.0    170.0    0.0      0.0   \n",
      "4   31    0   2     100.0  219.0  0.0      1.0    150.0    0.0      0.0   \n",
      "\n",
      "   slope  ca  thal  num  \n",
      "0    NaN NaN   NaN    0  \n",
      "1    NaN NaN   NaN    0  \n",
      "2    NaN NaN   NaN    0  \n",
      "3    NaN NaN   6.0    0  \n",
      "4    NaN NaN   NaN    0  \n"
     ]
    }
   ],
   "source": [
    "# Importing the dataset\n",
    "url = \"https://archive.ics.uci.edu/ml/machine-learning-databases/heart-disease/processed.hungarian.data\"\n",
    "column_names = [\"age\", \"sex\", \"cp\", \"trestbps\", \"chol\", \"fbs\", \"restecg\", \"thalach\", \"exang\", \"oldpeak\", \"slope\", \"ca\", \"thal\", \"num\"]\n",
    "heart_data = pd.read_csv(url, names = column_names, na_values = \"?\")\n",
    "print(heart_data.head())"
   ]
  },
  {
   "cell_type": "markdown",
   "id": "6ae85bcc",
   "metadata": {},
   "source": [
    "# 2: Data Pre-processing"
   ]
  },
  {
   "cell_type": "code",
   "execution_count": 3,
   "id": "cd9ed8bd",
   "metadata": {},
   "outputs": [],
   "source": [
    "# Data Cleaning\n",
    "heart_data.drop_duplicates(inplace = True)\n",
    "heart_data.fillna(heart_data.mean(), inplace = True)"
   ]
  },
  {
   "cell_type": "code",
   "execution_count": 4,
   "id": "8f7fcb9a",
   "metadata": {},
   "outputs": [],
   "source": [
    "# Splitting the dataset into the training set and test set\n",
    "from sklearn.model_selection import train_test_split\n",
    "X = heart_data.iloc[:, :-1].values\n",
    "y = heart_data.iloc[:, -1].values\n",
    "X_train, X_test, y_train, y_test = train_test_split(X, y, test_size = 0.2, random_state = 0)"
   ]
  },
  {
   "cell_type": "code",
   "execution_count": 5,
   "id": "aed4b2b3",
   "metadata": {},
   "outputs": [],
   "source": [
    "# Feature Scaling\n",
    "from sklearn.preprocessing import StandardScaler\n",
    "sc = StandardScaler()\n",
    "X_train = sc.fit_transform(X_train)\n",
    "X_test = sc.transform(X_test)"
   ]
  },
  {
   "cell_type": "markdown",
   "id": "61ebf9eb",
   "metadata": {},
   "source": [
    "# 3: Implement and Train the Model"
   ]
  },
  {
   "cell_type": "code",
   "execution_count": 6,
   "id": "28609a23",
   "metadata": {},
   "outputs": [
    {
     "data": {
      "text/plain": [
       "SVC(random_state=0)"
      ]
     },
     "execution_count": 6,
     "metadata": {},
     "output_type": "execute_result"
    }
   ],
   "source": [
    "# Training the Support Vector Machine model on the training set\n",
    "from sklearn.svm import SVC\n",
    "classifier = SVC(random_state = 0)\n",
    "classifier.fit(X_train, y_train)"
   ]
  },
  {
   "cell_type": "code",
   "execution_count": 7,
   "id": "47d507d3",
   "metadata": {},
   "outputs": [
    {
     "name": "stdout",
     "output_type": "stream",
     "text": [
      "[[0 1]\n",
      " [1 1]\n",
      " [0 1]\n",
      " [1 0]\n",
      " [0 0]\n",
      " [1 1]\n",
      " [0 0]\n",
      " [0 0]\n",
      " [0 0]\n",
      " [0 0]\n",
      " [0 0]\n",
      " [0 0]\n",
      " [0 0]\n",
      " [1 1]\n",
      " [0 0]\n",
      " [0 0]\n",
      " [1 1]\n",
      " [0 0]\n",
      " [0 0]\n",
      " [1 1]\n",
      " [0 1]\n",
      " [1 1]\n",
      " [0 1]\n",
      " [1 1]\n",
      " [1 1]\n",
      " [0 1]\n",
      " [0 0]\n",
      " [0 0]\n",
      " [1 1]\n",
      " [0 0]\n",
      " [1 1]\n",
      " [0 0]\n",
      " [0 0]\n",
      " [0 0]\n",
      " [0 1]\n",
      " [0 0]\n",
      " [0 1]\n",
      " [1 1]\n",
      " [0 1]\n",
      " [1 1]\n",
      " [0 0]\n",
      " [0 0]\n",
      " [1 1]\n",
      " [0 0]\n",
      " [0 0]\n",
      " [0 0]\n",
      " [0 0]\n",
      " [0 0]\n",
      " [0 0]\n",
      " [0 0]\n",
      " [1 1]\n",
      " [0 0]\n",
      " [1 0]\n",
      " [0 0]\n",
      " [1 1]\n",
      " [1 1]\n",
      " [1 1]\n",
      " [0 1]\n",
      " [1 0]]\n"
     ]
    }
   ],
   "source": [
    "# Predicting a new result\n",
    "y_pred = classifier.predict(X_test)\n",
    "print(np.concatenate((y_pred.reshape(len(y_pred), 1), y_test.reshape(len(y_test), 1)), 1))"
   ]
  },
  {
   "cell_type": "markdown",
   "id": "d3a654af",
   "metadata": {},
   "source": [
    "# 4: Evaluating Metrics"
   ]
  },
  {
   "cell_type": "code",
   "execution_count": 8,
   "id": "64d8f559",
   "metadata": {},
   "outputs": [
    {
     "name": "stdout",
     "output_type": "stream",
     "text": [
      "Confusion Matrix:\n",
      "[[30  3]\n",
      " [ 9 17]]\n"
     ]
    }
   ],
   "source": [
    "# Making the Confusion Matrix\n",
    "from sklearn.metrics import confusion_matrix\n",
    "cm = confusion_matrix(y_test, y_pred)\n",
    "print(\"Confusion Matrix:\")\n",
    "print(cm)"
   ]
  },
  {
   "cell_type": "code",
   "execution_count": 9,
   "id": "79f81777",
   "metadata": {},
   "outputs": [
    {
     "name": "stdout",
     "output_type": "stream",
     "text": [
      "Accuracy:  0.80\n",
      "Precision: 0.85\n",
      "Recall:    0.65\n",
      "F1-score:  0.74\n",
      "AUC-ROC:   0.78\n"
     ]
    }
   ],
   "source": [
    "# Evaluation Metrics\n",
    "from sklearn.metrics import accuracy_score, precision_score, recall_score, f1_score, roc_auc_score\n",
    "# Accuracy\n",
    "ac = accuracy_score(y_test, y_pred)\n",
    "print(f\"Accuracy:  {ac:.2f}\")\n",
    "# Precision\n",
    "pr = precision_score(y_test, y_pred)\n",
    "print(f\"Precision: {pr:.2f}\")\n",
    "# Recall \n",
    "re = recall_score(y_test, y_pred)\n",
    "print(f\"Recall:    {re:.2f}\")\n",
    "# F1-Score\n",
    "f = f1_score(y_test, y_pred)\n",
    "print(f\"F1-score:  {f:.2f}\")\n",
    "# AUC-ROC\n",
    "ra = roc_auc_score(y_test, y_pred)\n",
    "print(f\"AUC-ROC:   {ra:.2f}\")"
   ]
  },
  {
   "cell_type": "markdown",
   "id": "838c9fca",
   "metadata": {},
   "source": [
    "# 5: Hyperparameter Tuning"
   ]
  },
  {
   "cell_type": "code",
   "execution_count": 10,
   "id": "50a9f992",
   "metadata": {},
   "outputs": [
    {
     "name": "stdout",
     "output_type": "stream",
     "text": [
      "Randomized Search Best hyperparameters:  {'kernel': 'linear', 'gamma': 1, 'C': 0.1}\n",
      "Randomized Search Best score:  0.8462\n"
     ]
    }
   ],
   "source": [
    "# RandomizedSearchCV\n",
    "from sklearn.model_selection import RandomizedSearchCV\n",
    "\n",
    "# Define the hyperparameters to tune\n",
    "param_grid = {\n",
    "    'C': [0.1, 1, 10, 100],\n",
    "    'kernel': ['linear', 'rbf'],\n",
    "    'gamma': [0.1, 1, 10, 100]\n",
    "}\n",
    "\n",
    "# Create a Randomized Search object\n",
    "random_search = RandomizedSearchCV(\n",
    "    classifier, \n",
    "    param_distributions=param_grid, \n",
    "    n_iter=10, \n",
    "    cv=5, \n",
    "    scoring='accuracy', \n",
    "    n_jobs=-1, \n",
    "    random_state=0\n",
    ")\n",
    "\n",
    "# Fit the Randomized Search the data\n",
    "random_search.fit(X_train, y_train)\n",
    "\n",
    "# Print the best hyperparameters and corresponding score\n",
    "print(\"Randomized Search Best hyperparameters: \", random_search.best_params_)\n",
    "print(f\"Randomized Search Best score:  {random_search.best_score_:.4f}\")"
   ]
  },
  {
   "cell_type": "code",
   "execution_count": 11,
   "id": "85ffa9e7",
   "metadata": {},
   "outputs": [
    {
     "name": "stdout",
     "output_type": "stream",
     "text": [
      "Grid Search Best hyperparameters:  {'C': 0.1, 'gamma': 0.1, 'kernel': 'linear'}\n",
      "Grid Search Best score: 0.8462\n"
     ]
    }
   ],
   "source": [
    "# GridSearchCV\n",
    "from sklearn.model_selection import GridSearchCV\n",
    "\n",
    "# Create a Grid Search object\n",
    "grid_search = GridSearchCV(\n",
    "    classifier, \n",
    "    param_grid, \n",
    "    cv=5, \n",
    "    scoring='accuracy',\n",
    "    n_jobs=-1\n",
    ")\n",
    "\n",
    "# Fit the Grid Search object to the data\n",
    "grid_search.fit(X_train, y_train)\n",
    "\n",
    "# Print the best hyperparameters and corresponding score\n",
    "print(\"Grid Search Best hyperparameters: \", grid_search.best_params_)\n",
    "print(f\"Grid Search Best score: {grid_search.best_score_:.4f}\")"
   ]
  }
 ],
 "metadata": {
  "kernelspec": {
   "display_name": "Python 3 (ipykernel)",
   "language": "python",
   "name": "python3"
  },
  "language_info": {
   "codemirror_mode": {
    "name": "ipython",
    "version": 3
   },
   "file_extension": ".py",
   "mimetype": "text/x-python",
   "name": "python",
   "nbconvert_exporter": "python",
   "pygments_lexer": "ipython3",
   "version": "3.9.13"
  }
 },
 "nbformat": 4,
 "nbformat_minor": 5
}
